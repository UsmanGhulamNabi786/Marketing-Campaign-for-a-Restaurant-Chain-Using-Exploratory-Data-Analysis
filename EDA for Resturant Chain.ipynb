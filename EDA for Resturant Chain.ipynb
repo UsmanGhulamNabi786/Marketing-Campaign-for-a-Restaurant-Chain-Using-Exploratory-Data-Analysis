{
 "cells": [
  {
   "cell_type": "markdown",
   "metadata": {},
   "source": [
    "#### EDA Portfolio Project 4 by USMAN GHULAM NABI (W-53)"
   ]
  },
  {
   "cell_type": "markdown",
   "metadata": {},
   "source": [
    "### Designing a Marketing Campaign for a Restaurant Chain Using Exploratory Data Analysis"
   ]
  },
  {
   "cell_type": "markdown",
   "metadata": {},
   "source": [
    "#### Objective:\n",
    "To utilize exploratory data analysis (EDA) skills to understand customer preferences,dining trends, and competitive landscape in various \n",
    "regions of India, and to design an effective marketing campaign for a restaurant chain."
   ]
  },
  {
   "cell_type": "code",
   "execution_count": null,
   "metadata": {},
   "outputs": [],
   "source": [
    "# import libraries\n",
    "\n",
    "\n",
    "import pandas as pd\n",
    "import numpy as np\n",
    "import matplotlib.pyplot as plt\n",
    "import missingno as msno\n",
    "import seaborn as sns\n"
   ]
  },
  {
   "cell_type": "markdown",
   "metadata": {},
   "source": [
    "#### Tasks:"
   ]
  },
  {
   "cell_type": "markdown",
   "metadata": {},
   "source": [
    "#### 01. Data Cleaning and Preparation:\n",
    "\n",
    "● Identify and handle missing values.\n",
    "\n",
    "● Detect and correct any inconsistencies in the dataset (e.g., data types,mislabeled categories).\n",
    "\n",
    "● Feature engineering (if necessary), like extracting useful information from existing data."
   ]
  },
  {
   "cell_type": "code",
   "execution_count": null,
   "metadata": {},
   "outputs": [],
   "source": [
    "# import Dataset\n",
    "\n",
    "df=pd.read_csv('zomato_restaurants_in_India.csv')"
   ]
  },
  {
   "cell_type": "code",
   "execution_count": null,
   "metadata": {},
   "outputs": [],
   "source": [
    "df.head()"
   ]
  },
  {
   "cell_type": "code",
   "execution_count": null,
   "metadata": {},
   "outputs": [],
   "source": [
    "df.info()"
   ]
  },
  {
   "cell_type": "code",
   "execution_count": null,
   "metadata": {},
   "outputs": [],
   "source": [
    "df.isna().sum()"
   ]
  },
  {
   "cell_type": "code",
   "execution_count": null,
   "metadata": {},
   "outputs": [],
   "source": [
    "df.columns = df.columns.str.strip()"
   ]
  },
  {
   "cell_type": "code",
   "execution_count": null,
   "metadata": {},
   "outputs": [],
   "source": [
    "df.columns"
   ]
  },
  {
   "cell_type": "code",
   "execution_count": null,
   "metadata": {},
   "outputs": [],
   "source": [
    "msno.bar(df)"
   ]
  },
  {
   "cell_type": "code",
   "execution_count": null,
   "metadata": {},
   "outputs": [],
   "source": [
    "msno.heatmap(df)"
   ]
  },
  {
   "cell_type": "code",
   "execution_count": null,
   "metadata": {},
   "outputs": [],
   "source": [
    "df.duplicated().sum()"
   ]
  },
  {
   "cell_type": "code",
   "execution_count": null,
   "metadata": {},
   "outputs": [],
   "source": [
    "df1=df.copy()"
   ]
  },
  {
   "cell_type": "code",
   "execution_count": null,
   "metadata": {},
   "outputs": [],
   "source": [
    "df.drop_duplicates(keep='first',inplace=True)"
   ]
  },
  {
   "cell_type": "markdown",
   "metadata": {},
   "source": [
    "#### 02. Exploratory Data Analysis:\n",
    "\n",
    "● Descriptive Statistics: Summarize the central tendency, dispersion, and shape of the dataset's distribution.\n",
    "\n",
    "● Distribution Analysis: Analyze the distribution of key variables (e.g., ratings, price range, cuisines).\n",
    "\n",
    "● Correlation Analysis: Examine the relationships between different variables."
   ]
  },
  {
   "cell_type": "markdown",
   "metadata": {},
   "source": [
    "i. Descriptive Statistics"
   ]
  },
  {
   "cell_type": "code",
   "execution_count": null,
   "metadata": {},
   "outputs": [],
   "source": [
    "df.shape"
   ]
  },
  {
   "cell_type": "code",
   "execution_count": null,
   "metadata": {},
   "outputs": [],
   "source": [
    "# Summary statistics for numerical columns\n",
    "summary_stats = df.describe()\n",
    "summary_stats"
   ]
  },
  {
   "cell_type": "code",
   "execution_count": null,
   "metadata": {},
   "outputs": [],
   "source": [
    "df.describe(include=object)"
   ]
  },
  {
   "cell_type": "code",
   "execution_count": null,
   "metadata": {},
   "outputs": [],
   "source": [
    "# Skewness for numerical columns\n",
    "skewness_numeric = df.select_dtypes(include=['int64', 'float64']).skew()\n",
    "skewness_numeric \n",
    "\n"
   ]
  },
  {
   "cell_type": "code",
   "execution_count": null,
   "metadata": {},
   "outputs": [],
   "source": [
    "# Kurtosis for numerical columns\n",
    "kurtosis_numeric = df.select_dtypes(include=['int64', 'float64']).kurt()\n",
    "kurtosis_numeric \n"
   ]
  },
  {
   "cell_type": "markdown",
   "metadata": {},
   "source": [
    "#### ii. Distribution Analysis: "
   ]
  },
  {
   "cell_type": "code",
   "execution_count": null,
   "metadata": {},
   "outputs": [],
   "source": [
    "# Rating Distribution\n",
    "\n",
    "\n",
    "# Histogram of aggregate ratings\n",
    "plt.hist(df['aggregate_rating'], bins=20, color='skyblue', edgecolor='black')\n",
    "plt.xlabel('Aggregate Rating')\n",
    "plt.ylabel('Frequency')\n",
    "plt.title('Distribution of Aggregate Ratings')\n",
    "plt.show()\n",
    "\n",
    "# Box plot of aggregate ratings\n",
    "plt.boxplot(df['aggregate_rating'])\n",
    "plt.ylabel('Aggregate Rating')\n",
    "plt.title('Box Plot of Aggregate Ratings')\n",
    "plt.show()\n"
   ]
  },
  {
   "cell_type": "code",
   "execution_count": null,
   "metadata": {},
   "outputs": [],
   "source": [
    "# Price Range Distribution\n",
    "\n",
    "# Value counts of price ranges\n",
    "price_range_counts = df['price_range'].value_counts()\n",
    "\n",
    "# Bar plot of price range distribution\n",
    "price_range_counts.plot(kind='bar', color='lightgreen')\n",
    "plt.xlabel('Price Range')\n",
    "plt.ylabel('Count')\n",
    "plt.title('Distribution of Price Ranges')\n",
    "plt.show()\n"
   ]
  },
  {
   "cell_type": "code",
   "execution_count": null,
   "metadata": {},
   "outputs": [],
   "source": [
    "# Cuisine Distribution\n",
    "# Value counts of cuisines\n",
    "cuisine_counts = df['cuisines'].value_counts().head(10)  # Considering top 10 cuisines\n",
    "\n",
    "# Bar plot of cuisine distribution\n",
    "cuisine_counts.plot(kind='bar', color='salmon')\n",
    "plt.xlabel('Cuisine')\n",
    "plt.ylabel('Count')\n",
    "plt.title('Top 10 Cuisines')\n",
    "plt.xticks(rotation=45, ha='right')\n",
    "plt.show()\n"
   ]
  },
  {
   "cell_type": "markdown",
   "metadata": {},
   "source": [
    "iii. Correlation Analysis:"
   ]
  },
  {
   "cell_type": "code",
   "execution_count": null,
   "metadata": {},
   "outputs": [],
   "source": [
    "\n",
    "numeric_columns = df.select_dtypes(include=['float64', 'int64'])\n",
    "correlation_matrix = numeric_columns.corr()\n",
    "\n",
    "\n",
    "# Visualize correlation matrix as a heatmap\n",
    "plt.figure(figsize=(10, 8))\n",
    "sns.heatmap(correlation_matrix, annot=True, cmap='coolwarm', fmt=\".2f\")\n",
    "plt.title('Correlation Matrix')\n",
    "plt.show()\n"
   ]
  },
  {
   "cell_type": "markdown",
   "metadata": {},
   "source": [
    "#### 03. Regional Analysis:\n",
    "\n",
    "● Compare the restaurant trends and customer preferences across different cities or regions in India.\n",
    "\n",
    "● Identify unique characteristics of the dining scene in each region."
   ]
  },
  {
   "cell_type": "code",
   "execution_count": null,
   "metadata": {},
   "outputs": [],
   "source": [
    "# Compare the restaurant trends and customer preferences across different cities or regions in India.\n",
    "\n",
    "\n",
    "# Group data by city\n",
    "city_groups = df.groupby('city')\n",
    "\n",
    "# Analyze popular cuisines by city\n",
    "top_cuisines_by_city = city_groups['cuisines'].value_counts().groupby(level=0).nlargest(5)\n",
    "\n",
    "# Calculate average cost for two by city\n",
    "avg_cost_by_city = city_groups['average_cost_for_two'].mean()\n",
    "\n",
    "# Calculate average ratings by city\n",
    "avg_ratings_by_city = city_groups['aggregate_rating'].mean()\n",
    "\n",
    "# Calculate top 5 cuisines in each city\n",
    "top_cuisines_by_city = city_groups['cuisines'].value_counts().groupby(level=0).nlargest(5).reset_index(level=0, drop=True)\n",
    "\n",
    "# Combine top cuisines data from all cities\n",
    "combined_top_cuisines = top_cuisines_by_city.groupby('cuisines').sum().nlargest(5)\n",
    "\n",
    "# Plot top cuisines for all cities\n",
    "plt.figure(figsize=(10, 6))\n",
    "combined_top_cuisines.plot(kind='barh', color=plt.cm.viridis.colors)\n",
    "plt.title('Top 5 Cuisines Across Cities')\n",
    "plt.xlabel('Count')\n",
    "plt.ylabel('Cuisine')\n",
    "plt.tight_layout()\n",
    "plt.show()\n",
    "\n",
    "# Visualize average cost for two by city\n",
    "plt.figure()\n",
    "avg_cost_by_city.plot(kind='bar', color='lightgreen')\n",
    "plt.title('Average Cost for Two by City')\n",
    "plt.xlabel('City')\n",
    "plt.ylabel('Average Cost for Two')\n",
    "plt.xticks(rotation=45)\n",
    "plt.tight_layout()\n",
    "plt.show()\n",
    "\n",
    "# Visualize average ratings by city\n",
    "plt.figure()\n",
    "avg_ratings_by_city.plot(kind='bar', color='salmon')\n",
    "plt.title('Average Ratings by City')\n",
    "plt.xlabel('City')\n",
    "plt.ylabel('Average Rating')\n",
    "plt.xticks(rotation=45)\n",
    "plt.tight_layout()\n",
    "plt.show()\n"
   ]
  },
  {
   "cell_type": "code",
   "execution_count": null,
   "metadata": {},
   "outputs": [],
   "source": [
    "# Identify unique characteristics of the dining scene in each region.\n",
    "\n",
    "# Group the data by 'city'\n",
    "city_groups = df.groupby('city')\n",
    "\n",
    "# Analyze popular cuisines in each city\n",
    "top_cuisines_by_city = city_groups['cuisines'].value_counts().groupby(level=0).nlargest(5)\n",
    "\n",
    "# Calculate average cost for two by city\n",
    "avg_cost_by_city = city_groups['average_cost_for_two'].mean()\n",
    "\n",
    "# Identify popular types of restaurant establishments in each city\n",
    "top_establishments_by_city = city_groups['establishment'].value_counts().groupby(level=0).nlargest(5)\n",
    "\n",
    "# Examine average ratings of restaurants in each city\n",
    "avg_ratings_by_city = city_groups['aggregate_rating'].mean()\n",
    "\n",
    "# Display the results\n",
    "print(\"Top 5 Cuisines in Each City:\")\n",
    "print(top_cuisines_by_city)\n",
    "print(\"\\nAverage Cost for Two by City:\")\n",
    "print(avg_cost_by_city)\n",
    "print(\"\\nTop 5 Establishments in Each City:\")\n",
    "print(top_establishments_by_city)\n",
    "print(\"\\nAverage Ratings by City:\")\n",
    "print(avg_ratings_by_city)\n"
   ]
  },
  {
   "cell_type": "markdown",
   "metadata": {},
   "source": [
    "#### 04. Customer Preference Analysis:\n",
    "● Analyze the types of cuisines that are popular in different regions.\n",
    "\n",
    "● Examine the relationship between restaurant ratings, price range, and popularity."
   ]
  },
  {
   "cell_type": "code",
   "execution_count": null,
   "metadata": {},
   "outputs": [],
   "source": [
    "# Analyze the types of cuisines that are popular in different regions.\n",
    "\n",
    "# Group the data by 'city' or 'region'\n",
    "region_groups = df.groupby('city')  # Change 'city' to 'region' if the dataset uses 'region' for grouping\n",
    "\n",
    "# Analyze the frequency of cuisines in each region\n",
    "top_cuisines_by_region = region_groups['cuisines'].value_counts().groupby(level=0).nlargest(5)\n",
    "\n",
    "# Visualize the results\n",
    "for region, top_cuisines in top_cuisines_by_region.groupby(level=0):\n",
    "    plt.figure(figsize=(10, 6))\n",
    "    top_cuisines.plot(kind='bar', color='skyblue')\n",
    "    plt.title(f'Top 5 Cuisines in {region}')\n",
    "    plt.xlabel('Cuisine')\n",
    "    plt.ylabel('Count')\n",
    "    plt.xticks(rotation=45)\n",
    "    plt.tight_layout()\n",
    "    plt.show()\n"
   ]
  },
  {
   "cell_type": "code",
   "execution_count": null,
   "metadata": {},
   "outputs": [],
   "source": [
    "# Examine the relationship between restaurant ratings, price range, and popularity.\n",
    "\n",
    "# Select relevant columns\n",
    "columns = ['aggregate_rating', 'price_range', 'votes']\n",
    "data = df[columns]\n",
    "\n",
    "# Compute correlation matrix\n",
    "correlation_matrix = data.corr()\n",
    "\n",
    "# Visualize correlation matrix\n",
    "plt.figure(figsize=(8, 6))\n",
    "sns.heatmap(correlation_matrix, annot=True, cmap='coolwarm', fmt=\".2f\", linewidths=.5)\n",
    "plt.title('Correlation Matrix: Ratings, Price Range, and Popularity')\n",
    "plt.show()\n",
    "\n",
    "# Scatter plot: Ratings vs. Price Range\n",
    "plt.figure(figsize=(8, 6))\n",
    "sns.scatterplot(data=df, x='aggregate_rating', y='price_range', hue='votes', palette='viridis', alpha=0.7)\n",
    "plt.title('Scatter Plot: Ratings vs. Price Range (Colored by Popularity)')\n",
    "plt.xlabel('Aggregate Rating')\n",
    "plt.ylabel('Price Range')\n",
    "plt.show()\n"
   ]
  },
  {
   "cell_type": "markdown",
   "metadata": {},
   "source": [
    "#### 05. Competitive Analysis:\n",
    "\n",
    "● Identify major competitors in each region based on cuisine, pricing, and ratings.\n",
    "\n",
    "● Analyze the strengths and weaknesses of these competitors."
   ]
  },
  {
   "cell_type": "code",
   "execution_count": null,
   "metadata": {},
   "outputs": [],
   "source": [
    "# Identify major competitors in each region based on cuisine, pricing, and ratings.\n",
    "\n",
    "# Group the data by 'region'\n",
    "region_groups = df.groupby('city')  # Change 'city' to 'region' if the dataset uses 'region' for grouping\n",
    "\n",
    "# Analyze cuisines, pricing, and ratings in each region\n",
    "competitors = {}\n",
    "for region, data in region_groups:\n",
    "    # Identify major cuisines\n",
    "    top_cuisines = data['cuisines'].value_counts().nlargest(3).index.tolist()\n",
    "    \n",
    "    # Analyze pricing distribution\n",
    "    pricing_distribution = data['average_cost_for_two'].describe()\n",
    "    \n",
    "    # Calculate average ratings\n",
    "    avg_rating = data['aggregate_rating'].mean()\n",
    "    \n",
    "    # Store information\n",
    "    competitors[region] = {\n",
    "        'Top Cuisines': top_cuisines,\n",
    "        'Pricing Distribution': pricing_distribution,\n",
    "        'Average Rating': avg_rating\n",
    "    }\n",
    "\n",
    "# Display the results\n",
    "for region, info in competitors.items():\n",
    "    print(f\"Region: {region}\")\n",
    "    print(f\"Top Cuisines: {', '.join(info['Top Cuisines'])}\")\n",
    "    print(\"Pricing Distribution:\")\n",
    "    print(info['Pricing Distribution'])\n",
    "    print(f\"Average Rating: {info['Average Rating']:.2f}\")\n",
    "    print(\"\\n\")\n"
   ]
  },
  {
   "cell_type": "code",
   "execution_count": null,
   "metadata": {},
   "outputs": [],
   "source": [
    "# Analyze the strengths and weaknesses of these competitors.\n",
    "\n",
    "# Group the data by 'region'\n",
    "region_groups = df.groupby('city')  # Change 'city' to 'region' if the dataset uses 'region' for grouping\n",
    "\n",
    "# Analyze strengths and weaknesses of competitors in each region\n",
    "competitor_analysis = {}\n",
    "for region, data in region_groups:\n",
    "    # Calculate strengths\n",
    "    strengths = {\n",
    "        'Variety of Cuisines': data['cuisines'].nunique(),\n",
    "        'Average Price Range': data['average_cost_for_two'].mean(),\n",
    "        'Average Rating': data['aggregate_rating'].mean()\n",
    "    }\n",
    "    \n",
    "    # Calculate weaknesses (e.g., high prices, low ratings)\n",
    "    weaknesses = {\n",
    "        'High Price Variability': data['average_cost_for_two'].std(),\n",
    "        'Lowest Rating': data['aggregate_rating'].min()\n",
    "    }\n",
    "    \n",
    "    # Store strengths and weaknesses\n",
    "    competitor_analysis[region] = {\n",
    "        'Strengths': strengths,\n",
    "        'Weaknesses': weaknesses\n",
    "    }\n",
    "\n",
    "# Display the results\n",
    "for region, analysis in competitor_analysis.items():\n",
    "    print(f\"Region: {region}\")\n",
    "    print(\"Strengths:\")\n",
    "    for strength, value in analysis['Strengths'].items():\n",
    "        print(f\"- {strength}: {value}\")\n",
    "    print(\"Weaknesses:\")\n",
    "    for weakness, value in analysis['Weaknesses'].items():\n",
    "        print(f\"- {weakness}: {value}\")\n",
    "    print(\"\\n\")\n"
   ]
  },
  {
   "cell_type": "markdown",
   "metadata": {},
   "source": [
    "#### 06. Market Gap Analysis:\n",
    "● Identify any gaps in the market that the restaurant chain can capitalize on (e.g., underrepresented cuisines, price ranges)."
   ]
  },
  {
   "cell_type": "code",
   "execution_count": null,
   "metadata": {},
   "outputs": [],
   "source": [
    "\n",
    "# Group the data by 'city' or 'region'\n",
    "region_groups = df.groupby('city')  # Change 'city' to 'region' if the dataset uses 'region' for grouping\n",
    "\n",
    "# Analyze gaps in the market for each region\n",
    "market_gaps = {}\n",
    "for region, data in region_groups:\n",
    "    # Identify underrepresented cuisines\n",
    "    underrepresented_cuisines = data['cuisines'].value_counts().nsmallest(3).index.tolist()\n",
    "    \n",
    "    # Identify price ranges with limited options\n",
    "    price_ranges = data['price_range'].value_counts().index.tolist()\n",
    "    \n",
    "    # Store market gaps\n",
    "    market_gaps[region] = {\n",
    "        'Underrepresented Cuisines': underrepresented_cuisines,\n",
    "        'Limited Price Ranges': price_ranges\n",
    "    }\n",
    "\n",
    "# Display the results\n",
    "for region, gaps in market_gaps.items():\n",
    "    print(f\"Region: {region}\")\n",
    "    print(\"Underrepresented Cuisines:\")\n",
    "    print(', '.join(gaps['Underrepresented Cuisines']))\n",
    "    print(\"Limited Price Ranges:\")\n",
    "    print(', '.join(map(str, gaps['Limited Price Ranges'])))\n",
    "    print(\"\\n\")\n"
   ]
  }
 ],
 "metadata": {
  "kernelspec": {
   "display_name": "Python 3",
   "language": "python",
   "name": "python3"
  },
  "language_info": {
   "codemirror_mode": {
    "name": "ipython",
    "version": 3
   },
   "file_extension": ".py",
   "mimetype": "text/x-python",
   "name": "python",
   "nbconvert_exporter": "python",
   "pygments_lexer": "ipython3",
   "version": "3.12.1"
  }
 },
 "nbformat": 4,
 "nbformat_minor": 2
}
